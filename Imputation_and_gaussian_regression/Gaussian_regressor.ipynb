{
 "cells": [
  {
   "cell_type": "code",
   "execution_count": 74,
   "metadata": {},
   "outputs": [],
   "source": [
    "import numpy as np\n",
    "import pandas as pd\n",
    "from sklearn.preprocessing import StandardScaler\n",
    "from sklearn.gaussian_process import GaussianProcessRegressor\n",
    "from sklearn.gaussian_process.kernels import DotProduct, RBF, Matern, RationalQuadratic, WhiteKernel\n",
    "from sklearn.gaussian_process.kernels import ExpSineSquared\n",
    "from sklearn.experimental import enable_iterative_imputer\n",
    "from sklearn.impute import IterativeImputer\n",
    "from sklearn.preprocessing import OneHotEncoder\n",
    "from sklearn.metrics import mean_squared_error\n",
    "from sklearn.model_selection import train_test_split\n",
    "from sklearn.model_selection import KFold\n",
    "from sklearn.impute import KNNImputer"
   ]
  },
  {
   "cell_type": "code",
   "execution_count": null,
   "metadata": {},
   "outputs": [],
   "source": [
    "def data_loading_enc():\n",
    "    # Load training data\n",
    "    train_df = pd.read_csv(\"train.csv\")\n",
    "    test_df = pd.read_csv(\"test.csv\")\n",
    "\n",
    "    #drop priceCHF into y_train\n",
    "    y_train = train_df['price_CHF']\n",
    "    train_df = train_df.drop(['price_CHF'],axis=1)\n",
    "\n",
    "    #scale train and test with the same scaler (scaling is done while One hot encoding)\n",
    "    scaler = StandardScaler()\n",
    "\n",
    "    #One Hot encoding of seasons\n",
    "    encoder = OneHotEncoder(sparse=False)\n",
    "    encoded_seasons = encoder.fit_transform(train_df['season'].values.reshape(-1, 1))\n",
    "    encoded_seasons_test = encoder.transform(test_df['season'].values.reshape(-1, 1))\n",
    "    encoded_seasons_df = pd.DataFrame(encoded_seasons, columns=encoder.get_feature_names_out(['season']))\n",
    "    encoded_seasons_df_test = pd.DataFrame(encoded_seasons_test, columns=encoder.get_feature_names_out(['season']))\n",
    "    train_df = pd.concat([encoded_seasons_df, pd.DataFrame(scaler.fit_transform(train_df.drop('season', axis=1)))], axis=1)\n",
    "    test_df = pd.concat([encoded_seasons_df_test, pd.DataFrame(scaler.transform(test_df.drop('season', axis=1)))], axis=1)\n",
    "\n",
    "    #saving and modifying col names\n",
    "    colnames_test = test_df.columns\n",
    "    colnames_list = colnames_test.to_list()\n",
    "    colnames_list.append('price_CHF')\n",
    "    \n",
    "    #imputing training set with It.I\n",
    "    imp = IterativeImputer(max_iter=1000, random_state=0)\n",
    "    imp.fit(train_df)\n",
    "    imp_df = pd.DataFrame(imp.transform(train_df))\n",
    "\n",
    "    #imputing priceCHF with KNN\n",
    "    imp_df_y = pd.concat([imp_df, y_train], axis=1)\n",
    "    imputer = KNNImputer(n_neighbors=2)\n",
    "    imp_df_y = pd.DataFrame(imputer.fit_transform(imp_df_y))\n",
    "    imp_df_y.columns = colnames_list\n",
    "    \n",
    "    #imputing test set with It.\n",
    "    imp_test = IterativeImputer(max_iter=1000, random_state=0)\n",
    "    imp_test_df = pd.DataFrame(imp.transform(test_df))\n",
    "    imp_test_df.columns = colnames_test\n",
    "\n",
    "    #extracting X_train, y_train and X_test\n",
    "    X_train = imp_df_y.drop(['price_CHF'],axis=1).to_numpy()\n",
    "    y_train = imp_df_y['price_CHF'].to_numpy()\n",
    "    X_test = imp_test_df\n",
    "\n",
    "    assert (X_train.shape[1] == X_test.shape[1]) and (X_train.shape[0] == y_train.shape[0]) and (X_test.shape[0] == 100), \"Invalid data shape\"\n",
    "    return X_train, y_train, X_test"
   ]
  },
  {
   "cell_type": "code",
   "execution_count": 76,
   "metadata": {},
   "outputs": [],
   "source": [
    "def average_LR_RMSE(X, y, kernels, n_folds, alpha):\n",
    "\n",
    "    RMSE_mat = np.zeros((n_folds, len(kernels)))\n",
    "\n",
    "    kf = KFold(n_splits=n_folds)\n",
    "    for i, (train, test) in enumerate(kf.split(X)):\n",
    "        X_train, X_test, y_train, y_test = X[train], X[test], y[train], y[test]\n",
    "        for ii, kernel in enumerate(kernels):\n",
    "            gpr = GaussianProcessRegressor(kernel=kernel, alpha=alpha)\n",
    "            gpr.fit(X_train, y_train)\n",
    "            y_pred = gpr.predict(X_test)\n",
    "            MSE = mean_squared_error(y_test, y_pred)\n",
    "            RMSE = np.sqrt(MSE)\n",
    "            RMSE_mat[i][ii] = RMSE\n",
    "\n",
    "    avg_RMSE = np.mean(RMSE_mat, axis=0)\n",
    "    assert avg_RMSE.shape == (len(kernels),)\n",
    "    return avg_RMSE"
   ]
  },
  {
   "cell_type": "code",
   "execution_count": 106,
   "metadata": {},
   "outputs": [],
   "source": [
    "def modeling_and_prediction(X_train, y_train, X_test):\n",
    "    # This function defines the model, fits training data and then \n",
    "    # does the prediction with the test data \n",
    "\n",
    "    gpr = GaussianProcessRegressor(kernel=RationalQuadratic() + WhiteKernel(0.05), alpha = 1e-9)\n",
    "    gpr.fit(X_train, y_train)\n",
    "    y_pred = gpr.predict(X_test)\n",
    "    assert y_pred.shape == (100,), \"Invalid data shape\"\n",
    "    return y_pred"
   ]
  },
  {
   "cell_type": "code",
   "execution_count": null,
   "metadata": {},
   "outputs": [],
   "source": [
    "if __name__ == \"__main__\":\n",
    "    # Data loading\n",
    "    X_train, y_train, X_test = data_loading_enc()\n",
    "    # The function retrieving optimal LR parameters\n",
    "    y_pred=modeling_and_prediction(X_train, y_train, X_test)\n",
    "    # Save results in the required format\n",
    "    dt = pd.DataFrame(y_pred)\n",
    "    dt.columns = ['price_CHF']\n",
    "    dt.to_csv('results.csv', index=False)\n",
    "    print(\"\\nResults file successfully generated!\")"
   ]
  },
  {
   "cell_type": "code",
   "execution_count": null,
   "metadata": {},
   "outputs": [],
   "source": [
    "#K Fold cross validation for finding suitable kernels\n",
    "X_train, y_train, X_test = data_loading_enc()\n",
    "kernels = [DotProduct(), RBF(), Matern(), RationalQuadratic(), RBF() * ExpSineSquared(length_scale=1.0, periodicity=4)]\n",
    "kernels_2 = [RationalQuadratic() + WhiteKernel(noise_level=0.05), RBF() * ExpSineSquared(length_scale=1, periodicity=4) + WhiteKernel(noise_level=0.05)]\n",
    "\n",
    "scales = range(5, 100, 10)\n",
    "Rational_Q_kernels = [RationalQuadratic(alpha=x/10) + WhiteKernel(0.05) for x in scales]\n",
    "\n",
    "n_folds = 10\n",
    "avg_RMSE = average_LR_RMSE(X_train, y_train, Rational_Q_kernels, n_folds, alpha = 1e-9)"
   ]
  },
  {
   "cell_type": "code",
   "execution_count": 119,
   "metadata": {},
   "outputs": [
    {
     "name": "stdout",
     "output_type": "stream",
     "text": [
      "   season  price_AUS  price_CHF  price_CZE  price_GER  price_ESP  price_FRA  \\\n",
      "0  spring        NaN   9.644028  -1.686248  -1.748076  -3.666005        NaN   \n",
      "1  summer        NaN   7.246061  -2.132377  -2.054363  -3.295697  -4.104759   \n",
      "2  autumn  -2.101937   7.620085  -1.910282        NaN  -3.388777        NaN   \n",
      "3  winter  -2.098475   8.411894  -1.903834        NaN  -3.588235        NaN   \n",
      "4  spring  -1.969687   8.926884  -1.697257  -1.331049        NaN  -3.911096   \n",
      "\n",
      "   price_UK  price_ITA  price_POL  price_SVK  \n",
      "0 -1.822720  -3.931031        NaN  -3.238197  \n",
      "1 -1.826021        NaN        NaN  -3.212894  \n",
      "2 -2.034409  -4.073850        NaN  -3.114061  \n",
      "3 -2.214720  -4.018620  -2.330803        NaN  \n",
      "4 -2.388092  -4.093946        NaN        NaN  \n",
      "   season  price_AUS  price_CZE  price_GER  price_ESP  price_FRA  price_UK  \\\n",
      "0  spring        NaN   0.472985   0.707957        NaN  -1.136441 -0.596703   \n",
      "1  summer  -1.184837   0.358019        NaN  -3.199028  -1.069695       NaN   \n",
      "2  autumn  -1.116459        NaN   0.780460  -3.338948  -1.053149 -0.586339   \n",
      "3  winter        NaN   0.353066   0.833429        NaN  -1.322626 -0.628873   \n",
      "4  spring        NaN   0.269644        NaN  -3.245495  -1.362051 -0.717914   \n",
      "\n",
      "   price_ITA  price_POL  price_SVK  \n",
      "0        NaN   3.298693   1.921886  \n",
      "1  -1.420091   3.238307        NaN  \n",
      "2        NaN   3.207398   2.020570  \n",
      "3  -1.304240   3.159858        NaN  \n",
      "4  -1.341538   3.205007        NaN  \n"
     ]
    }
   ],
   "source": [
    "train_df = pd.read_csv(\"train.csv\")\n",
    "test_df = pd.read_csv(\"test.csv\")\n",
    "print(train_df.head(5))\n",
    "print(test_df.head(5))"
   ]
  }
 ],
 "metadata": {
  "kernelspec": {
   "display_name": "iaf-env",
   "language": "python",
   "name": "python3"
  },
  "language_info": {
   "codemirror_mode": {
    "name": "ipython",
    "version": 3
   },
   "file_extension": ".py",
   "mimetype": "text/x-python",
   "name": "python",
   "nbconvert_exporter": "python",
   "pygments_lexer": "ipython3",
   "version": "3.9.13"
  },
  "orig_nbformat": 4
 },
 "nbformat": 4,
 "nbformat_minor": 2
}
